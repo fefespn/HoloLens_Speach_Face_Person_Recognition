{
  "nbformat": 4,
  "nbformat_minor": 0,
  "metadata": {
    "colab": {
      "name": "BF_For_Images.ipynb",
      "version": "0.3.2",
      "provenance": [],
      "include_colab_link": true
    },
    "kernelspec": {
      "name": "python3",
      "display_name": "Python 3"
    },
    "accelerator": "GPU"
  },
  "cells": [
    {
      "cell_type": "markdown",
      "metadata": {
        "id": "view-in-github",
        "colab_type": "text"
      },
      "source": [
        "<a href=\"https://colab.research.google.com/github/fefespn/HoloLens_Speach_Face_Person_Recognition/blob/master/BF_For_Images.ipynb\" target=\"_parent\"><img src=\"https://colab.research.google.com/assets/colab-badge.svg\" alt=\"Open In Colab\"/></a>"
      ]
    },
    {
      "metadata": {
        "id": "3TRXr7zrdrve",
        "colab_type": "code",
        "colab": {}
      },
      "cell_type": "code",
      "source": [
        "!pip install tensorflow-gpu==2.0.0-alpha0\n",
        "!pip install bloom-filter\n",
        "import tensorflow as tf\n",
        "from tensorflow import keras\n",
        "from tensorflow.keras import layers\n",
        "from bloom_filter import BloomFilter\n",
        "import numpy as np\n",
        "import matplotlib.pyplot as plt\n"
      ],
      "execution_count": 0,
      "outputs": []
    },
    {
      "metadata": {
        "id": "YgdpQT6n-oJB",
        "colab_type": "text"
      },
      "cell_type": "markdown",
      "source": [
        "Import Fashion_MNIST. 70,000 grayscale images in 10 categories.\n",
        "We look at the data set in this way:\n",
        "- all the univirse  is the 70,000 images\n",
        "- our positive keys is images with label 0. There is 1,000 images like that.\n"
      ]
    },
    {
      "metadata": {
        "id": "22-CDX0VeffT",
        "colab_type": "code",
        "colab": {}
      },
      "cell_type": "code",
      "source": [
        "fashion_mnist = keras.datasets.fashion_mnist\n",
        "\n",
        "(train_images_, train_labels), (test_images_, test_labels) = fashion_mnist.load_data()"
      ],
      "execution_count": 0,
      "outputs": []
    },
    {
      "metadata": {
        "id": "4aR7Ci7DfP04",
        "colab_type": "code",
        "colab": {}
      },
      "cell_type": "code",
      "source": [
        "class_names = ['T-shirt/top', 'Trouser', 'Pullover', 'Dress', 'Coat',\n",
        "               'Sandal', 'Shirt', 'Sneaker', 'Bag', 'Ankle boot']\n",
        "\n",
        "train_images = train_images_ / 255.0\n",
        "\n",
        "test_images = test_images_ / 255.0"
      ],
      "execution_count": 0,
      "outputs": []
    },
    {
      "metadata": {
        "id": "HCWxZy5DjrdK",
        "colab_type": "code",
        "outputId": "b5f9b661-7e90-48c6-f448-025bfcf3eaa6",
        "colab": {
          "base_uri": "https://localhost:8080/",
          "height": 101
        }
      },
      "cell_type": "code",
      "source": [
        "#bloom = BloomFilter(max_elements=6000, error_rate=0.05)\n",
        "bloom = BloomFilter()\n",
        "tshirt_counter = 0\n",
        "\n",
        "for i in range(len(train_labels)):\n",
        "    if(train_labels[i] == 0):\n",
        "        img_encode = np.ravel(train_images_[i]).tolist()\n",
        "        bloom.add(img_encode)\n",
        "        tshirt_counter = tshirt_counter + 1\n",
        "        \n",
        "print(\"T-Shirt count = \",tshirt_counter)\n",
        "c = 0\n",
        "for i in range(len(train_labels)):\n",
        "    img_encode = np.ravel(train_images_[i]).tolist()\n",
        "    if(img_encode in bloom):\n",
        "        c = c+1\n",
        "print(\"bloom filter T-Shirt count=\",c)\n",
        "print(\"bloom filter Train accuracy=\",(c-tshirt_counter)/50000,'\\n\\n')\n",
        "\n",
        "\n"
      ],
      "execution_count": 0,
      "outputs": [
        {
          "output_type": "stream",
          "text": [
            "T-Shirt count =  6000\n",
            "bloom filter T-Shirt count= 7281\n",
            "bloom filter Train accuracy= 0.02562 \n",
            "\n",
            "\n"
          ],
          "name": "stdout"
        }
      ]
    },
    {
      "metadata": {
        "id": "uIFOFbzsDMB6",
        "colab_type": "code",
        "outputId": "612cc5b6-e405-46ea-e7bd-f8ceaa6b11be",
        "colab": {
          "base_uri": "https://localhost:8080/",
          "height": 67
        }
      },
      "cell_type": "code",
      "source": [
        "\n",
        "#bloom1 = BloomFilter()\n",
        "tshirt_counter = 0\n",
        "for i in range(len(test_labels)):\n",
        "    if(test_labels[i] == 0):\n",
        "        #img_encode = np.ravel(test_images_[i]).tolist()\n",
        "        #bloom1.add(img_encode)\n",
        "        tshirt_counter = tshirt_counter + 1\n",
        "        \n",
        "print(\"T-Shirt count = \",tshirt_counter)\n",
        "c = 0\n",
        "for i in range(len(test_labels)):\n",
        "    img_encode = np.ravel(test_images_[i]).tolist()\n",
        "    if(img_encode in bloom):\n",
        "        c = c+1\n",
        "print(\"bloom filter T-Shirt count=\",c)\n",
        "print(\"bloom filter accuracy=\",(c-tshirt_counter)/9000)"
      ],
      "execution_count": 0,
      "outputs": [
        {
          "output_type": "stream",
          "text": [
            "T-Shirt count =  1000\n",
            "bloom filter T-Shirt count= 241\n",
            "bloom filter accuracy= -0.08433333333333333\n"
          ],
          "name": "stdout"
        }
      ]
    },
    {
      "metadata": {
        "id": "fSv-_bbKflSH",
        "colab_type": "code",
        "colab": {}
      },
      "cell_type": "code",
      "source": [
        "plt.figure(figsize=(10,10))\n",
        "for i in range(25):\n",
        "    plt.subplot(5,5,i+1)\n",
        "    plt.xticks([])\n",
        "    plt.yticks([])\n",
        "    plt.grid(False)\n",
        "    plt.imshow(train_images[i], cmap=plt.cm.binary)\n",
        "    plt.xlabel(class_names[train_labels[i]])\n",
        "plt.show()"
      ],
      "execution_count": 0,
      "outputs": []
    },
    {
      "metadata": {
        "id": "5S4-auDKh3AM",
        "colab_type": "code",
        "outputId": "959bee08-2399-4d50-f3b5-314f22628656",
        "colab": {
          "base_uri": "https://localhost:8080/",
          "height": 272
        }
      },
      "cell_type": "code",
      "source": [
        "model = keras.Sequential([\n",
        "    keras.layers.Flatten(input_shape=(28, 28)),\n",
        "    keras.layers.Dense(128, activation='relu'),\n",
        "    keras.layers.Dense(10, activation='softmax')\n",
        "])\n",
        "\n",
        "model.compile(optimizer='adam',\n",
        "              loss='sparse_categorical_crossentropy',\n",
        "              metrics=['accuracy'])\n",
        "\n",
        "model.fit(train_images, train_labels, epochs=5)"
      ],
      "execution_count": 7,
      "outputs": [
        {
          "output_type": "stream",
          "text": [
            "WARNING:tensorflow:From /usr/local/lib/python3.6/dist-packages/tensorflow/python/ops/resource_variable_ops.py:435: colocate_with (from tensorflow.python.framework.ops) is deprecated and will be removed in a future version.\n",
            "Instructions for updating:\n",
            "Colocations handled automatically by placer.\n",
            "Epoch 1/5\n",
            "60000/60000 [==============================] - 6s 106us/sample - loss: 0.4940 - acc: 0.8244\n",
            "Epoch 2/5\n",
            "60000/60000 [==============================] - 5s 90us/sample - loss: 0.3749 - acc: 0.8645\n",
            "Epoch 3/5\n",
            "60000/60000 [==============================] - 5s 90us/sample - loss: 0.3388 - acc: 0.8755\n",
            "Epoch 4/5\n",
            "60000/60000 [==============================] - 6s 100us/sample - loss: 0.3159 - acc: 0.8843\n",
            "Epoch 5/5\n",
            "60000/60000 [==============================] - 6s 98us/sample - loss: 0.2962 - acc: 0.8904\n"
          ],
          "name": "stdout"
        },
        {
          "output_type": "execute_result",
          "data": {
            "text/plain": [
              "<tensorflow.python.keras.callbacks.History at 0x7f985621ee80>"
            ]
          },
          "metadata": {
            "tags": []
          },
          "execution_count": 7
        }
      ]
    },
    {
      "metadata": {
        "id": "VpdGnbS8ii9B",
        "colab_type": "code",
        "outputId": "75e16d66-1021-4b21-e32a-83ff09b74c60",
        "colab": {
          "base_uri": "https://localhost:8080/",
          "height": 67
        }
      },
      "cell_type": "code",
      "source": [
        "test_loss, test_acc = model.evaluate(test_images, test_labels)\n",
        "\n",
        "print('\\nTest accuracy:', test_acc)"
      ],
      "execution_count": 8,
      "outputs": [
        {
          "output_type": "stream",
          "text": [
            "10000/10000 [==============================] - 1s 52us/sample - loss: 0.3615 - acc: 0.8634\n",
            "\n",
            "Test accuracy: 0.8634\n"
          ],
          "name": "stdout"
        }
      ]
    },
    {
      "metadata": {
        "id": "GcZztbjliwjg",
        "colab_type": "code",
        "colab": {}
      },
      "cell_type": "code",
      "source": [
        "predictions = model.predict(test_images)"
      ],
      "execution_count": 0,
      "outputs": []
    },
    {
      "metadata": {
        "id": "H-JXUy4WiyZv",
        "colab_type": "code",
        "outputId": "3a40d6a8-308e-4674-bb17-a355c911f29c",
        "colab": {
          "base_uri": "https://localhost:8080/",
          "height": 34
        }
      },
      "cell_type": "code",
      "source": [
        "np.argmax(predictions[0])"
      ],
      "execution_count": 10,
      "outputs": [
        {
          "output_type": "execute_result",
          "data": {
            "text/plain": [
              "9"
            ]
          },
          "metadata": {
            "tags": []
          },
          "execution_count": 10
        }
      ]
    }
  ]
}